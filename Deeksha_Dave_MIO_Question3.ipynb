{
 "cells": [
  {
   "cell_type": "markdown",
   "metadata": {},
   "source": [
    "## McKinsey Investment Office\n",
    "### Qunatitavive Validation Analyst Test\n",
    "### -Deeksha Dave"
   ]
  },
  {
   "cell_type": "markdown",
   "metadata": {},
   "source": [
    "## Part 1"
   ]
  },
  {
   "cell_type": "code",
   "execution_count": 1,
   "metadata": {
    "collapsed": true
   },
   "outputs": [],
   "source": [
    "import pandas as pd"
   ]
  },
  {
   "cell_type": "code",
   "execution_count": 2,
   "metadata": {
    "collapsed": true
   },
   "outputs": [],
   "source": [
    "## Reading the sheet for first question from the given excel file\n",
    "df = pd.read_excel('question3.xlsx', sheetname = 'FOR_PROBLEM_1_2')"
   ]
  },
  {
   "cell_type": "code",
   "execution_count": 3,
   "metadata": {},
   "outputs": [
    {
     "data": {
      "text/html": [
       "<div>\n",
       "<style>\n",
       "    .dataframe thead tr:only-child th {\n",
       "        text-align: right;\n",
       "    }\n",
       "\n",
       "    .dataframe thead th {\n",
       "        text-align: left;\n",
       "    }\n",
       "\n",
       "    .dataframe tbody tr th {\n",
       "        vertical-align: top;\n",
       "    }\n",
       "</style>\n",
       "<table border=\"1\" class=\"dataframe\">\n",
       "  <thead>\n",
       "    <tr style=\"text-align: right;\">\n",
       "      <th></th>\n",
       "      <th>DATE</th>\n",
       "      <th>TICKER</th>\n",
       "      <th>DAILY_RETURN</th>\n",
       "    </tr>\n",
       "  </thead>\n",
       "  <tbody>\n",
       "    <tr>\n",
       "      <th>0</th>\n",
       "      <td>2010-06-22</td>\n",
       "      <td>AMZN</td>\n",
       "      <td>NaN</td>\n",
       "    </tr>\n",
       "    <tr>\n",
       "      <th>1</th>\n",
       "      <td>2010-06-23</td>\n",
       "      <td>AMZN</td>\n",
       "      <td>-0.007031</td>\n",
       "    </tr>\n",
       "    <tr>\n",
       "      <th>2</th>\n",
       "      <td>2010-06-24</td>\n",
       "      <td>AMZN</td>\n",
       "      <td>-0.025690</td>\n",
       "    </tr>\n",
       "    <tr>\n",
       "      <th>3</th>\n",
       "      <td>2010-06-25</td>\n",
       "      <td>AMZN</td>\n",
       "      <td>0.022564</td>\n",
       "    </tr>\n",
       "    <tr>\n",
       "      <th>4</th>\n",
       "      <td>2010-06-28</td>\n",
       "      <td>AMZN</td>\n",
       "      <td>-0.026446</td>\n",
       "    </tr>\n",
       "  </tbody>\n",
       "</table>\n",
       "</div>"
      ],
      "text/plain": [
       "        DATE TICKER  DAILY_RETURN\n",
       "0 2010-06-22   AMZN           NaN\n",
       "1 2010-06-23   AMZN     -0.007031\n",
       "2 2010-06-24   AMZN     -0.025690\n",
       "3 2010-06-25   AMZN      0.022564\n",
       "4 2010-06-28   AMZN     -0.026446"
      ]
     },
     "execution_count": 3,
     "metadata": {},
     "output_type": "execute_result"
    }
   ],
   "source": [
    "df.head()"
   ]
  },
  {
   "cell_type": "code",
   "execution_count": 4,
   "metadata": {
    "collapsed": true
   },
   "outputs": [],
   "source": [
    "df.set_index('DATE',inplace=True)"
   ]
  },
  {
   "cell_type": "code",
   "execution_count": 5,
   "metadata": {
    "collapsed": true
   },
   "outputs": [],
   "source": [
    "## Calculating daily cmulative returns to ease the computation of MTD and YTD returns\n",
    "df[\"Cumulative\"] = (1+df['DAILY_RETURN']).cumprod()\n",
    "import warnings\n",
    "warnings.filterwarnings('ignore')\n",
    "df['Cumulative'][0] = 1"
   ]
  },
  {
   "cell_type": "code",
   "execution_count": 6,
   "metadata": {},
   "outputs": [
    {
     "data": {
      "text/html": [
       "<div>\n",
       "<style>\n",
       "    .dataframe thead tr:only-child th {\n",
       "        text-align: right;\n",
       "    }\n",
       "\n",
       "    .dataframe thead th {\n",
       "        text-align: left;\n",
       "    }\n",
       "\n",
       "    .dataframe tbody tr th {\n",
       "        vertical-align: top;\n",
       "    }\n",
       "</style>\n",
       "<table border=\"1\" class=\"dataframe\">\n",
       "  <thead>\n",
       "    <tr style=\"text-align: right;\">\n",
       "      <th></th>\n",
       "      <th>TICKER</th>\n",
       "      <th>DAILY_RETURN</th>\n",
       "      <th>Cumulative</th>\n",
       "    </tr>\n",
       "    <tr>\n",
       "      <th>DATE</th>\n",
       "      <th></th>\n",
       "      <th></th>\n",
       "      <th></th>\n",
       "    </tr>\n",
       "  </thead>\n",
       "  <tbody>\n",
       "    <tr>\n",
       "      <th>2010-06-22</th>\n",
       "      <td>AMZN</td>\n",
       "      <td>NaN</td>\n",
       "      <td>1.000000</td>\n",
       "    </tr>\n",
       "    <tr>\n",
       "      <th>2010-06-23</th>\n",
       "      <td>AMZN</td>\n",
       "      <td>-0.007031</td>\n",
       "      <td>0.992969</td>\n",
       "    </tr>\n",
       "    <tr>\n",
       "      <th>2010-06-24</th>\n",
       "      <td>AMZN</td>\n",
       "      <td>-0.025690</td>\n",
       "      <td>0.967460</td>\n",
       "    </tr>\n",
       "    <tr>\n",
       "      <th>2010-06-25</th>\n",
       "      <td>AMZN</td>\n",
       "      <td>0.022564</td>\n",
       "      <td>0.989290</td>\n",
       "    </tr>\n",
       "    <tr>\n",
       "      <th>2010-06-28</th>\n",
       "      <td>AMZN</td>\n",
       "      <td>-0.026446</td>\n",
       "      <td>0.963127</td>\n",
       "    </tr>\n",
       "  </tbody>\n",
       "</table>\n",
       "</div>"
      ],
      "text/plain": [
       "           TICKER  DAILY_RETURN  Cumulative\n",
       "DATE                                       \n",
       "2010-06-22   AMZN           NaN    1.000000\n",
       "2010-06-23   AMZN     -0.007031    0.992969\n",
       "2010-06-24   AMZN     -0.025690    0.967460\n",
       "2010-06-25   AMZN      0.022564    0.989290\n",
       "2010-06-28   AMZN     -0.026446    0.963127"
      ]
     },
     "execution_count": 6,
     "metadata": {},
     "output_type": "execute_result"
    }
   ],
   "source": [
    "df.head()"
   ]
  },
  {
   "cell_type": "code",
   "execution_count": 7,
   "metadata": {
    "collapsed": true
   },
   "outputs": [],
   "source": [
    "## Grouping the data according to business year, to calculate the YTD return\n",
    "YTD = df.groupby(pd.TimeGrouper('A'))"
   ]
  },
  {
   "cell_type": "code",
   "execution_count": 8,
   "metadata": {
    "collapsed": true
   },
   "outputs": [],
   "source": [
    "## Computing the YTD returns\n",
    "df[\"YTD\"] = YTD['Cumulative'].transform(lambda x: x/x.iloc[0]-1.0)"
   ]
  },
  {
   "cell_type": "code",
   "execution_count": 9,
   "metadata": {
    "collapsed": true
   },
   "outputs": [],
   "source": [
    "## Grouping the data according to business month, to calculate the MTD return\n",
    "MTD = df.groupby(pd.TimeGrouper('BM'))"
   ]
  },
  {
   "cell_type": "code",
   "execution_count": 10,
   "metadata": {
    "collapsed": true
   },
   "outputs": [],
   "source": [
    "## Computing the MTD returns\n",
    "df['MTD'] = MTD['Cumulative']. transform(lambda x: x/x.iloc[0]-1.0)"
   ]
  },
  {
   "cell_type": "code",
   "execution_count": 11,
   "metadata": {},
   "outputs": [
    {
     "data": {
      "text/html": [
       "<div>\n",
       "<style>\n",
       "    .dataframe thead tr:only-child th {\n",
       "        text-align: right;\n",
       "    }\n",
       "\n",
       "    .dataframe thead th {\n",
       "        text-align: left;\n",
       "    }\n",
       "\n",
       "    .dataframe tbody tr th {\n",
       "        vertical-align: top;\n",
       "    }\n",
       "</style>\n",
       "<table border=\"1\" class=\"dataframe\">\n",
       "  <thead>\n",
       "    <tr style=\"text-align: right;\">\n",
       "      <th></th>\n",
       "      <th>TICKER</th>\n",
       "      <th>DAILY_RETURN</th>\n",
       "      <th>Cumulative</th>\n",
       "      <th>YTD</th>\n",
       "      <th>MTD</th>\n",
       "    </tr>\n",
       "    <tr>\n",
       "      <th>DATE</th>\n",
       "      <th></th>\n",
       "      <th></th>\n",
       "      <th></th>\n",
       "      <th></th>\n",
       "      <th></th>\n",
       "    </tr>\n",
       "  </thead>\n",
       "  <tbody>\n",
       "    <tr>\n",
       "      <th>2010-06-22</th>\n",
       "      <td>AMZN</td>\n",
       "      <td>NaN</td>\n",
       "      <td>1.000000</td>\n",
       "      <td>0.000000</td>\n",
       "      <td>0.000000</td>\n",
       "    </tr>\n",
       "    <tr>\n",
       "      <th>2010-06-23</th>\n",
       "      <td>AMZN</td>\n",
       "      <td>-0.007031</td>\n",
       "      <td>0.992969</td>\n",
       "      <td>-0.007031</td>\n",
       "      <td>-0.007031</td>\n",
       "    </tr>\n",
       "    <tr>\n",
       "      <th>2010-06-24</th>\n",
       "      <td>AMZN</td>\n",
       "      <td>-0.025690</td>\n",
       "      <td>0.967460</td>\n",
       "      <td>-0.032540</td>\n",
       "      <td>-0.032540</td>\n",
       "    </tr>\n",
       "    <tr>\n",
       "      <th>2010-06-25</th>\n",
       "      <td>AMZN</td>\n",
       "      <td>0.022564</td>\n",
       "      <td>0.989290</td>\n",
       "      <td>-0.010710</td>\n",
       "      <td>-0.010710</td>\n",
       "    </tr>\n",
       "    <tr>\n",
       "      <th>2010-06-28</th>\n",
       "      <td>AMZN</td>\n",
       "      <td>-0.026446</td>\n",
       "      <td>0.963127</td>\n",
       "      <td>-0.036873</td>\n",
       "      <td>-0.036873</td>\n",
       "    </tr>\n",
       "  </tbody>\n",
       "</table>\n",
       "</div>"
      ],
      "text/plain": [
       "           TICKER  DAILY_RETURN  Cumulative       YTD       MTD\n",
       "DATE                                                           \n",
       "2010-06-22   AMZN           NaN    1.000000  0.000000  0.000000\n",
       "2010-06-23   AMZN     -0.007031    0.992969 -0.007031 -0.007031\n",
       "2010-06-24   AMZN     -0.025690    0.967460 -0.032540 -0.032540\n",
       "2010-06-25   AMZN      0.022564    0.989290 -0.010710 -0.010710\n",
       "2010-06-28   AMZN     -0.026446    0.963127 -0.036873 -0.036873"
      ]
     },
     "execution_count": 11,
     "metadata": {},
     "output_type": "execute_result"
    }
   ],
   "source": [
    "df.head()"
   ]
  },
  {
   "cell_type": "code",
   "execution_count": null,
   "metadata": {
    "collapsed": true
   },
   "outputs": [],
   "source": []
  },
  {
   "cell_type": "markdown",
   "metadata": {},
   "source": [
    "## Part 2"
   ]
  },
  {
   "cell_type": "code",
   "execution_count": 12,
   "metadata": {
    "collapsed": true
   },
   "outputs": [],
   "source": [
    "## Only the initial price is given. Hence to calculate the daily close price,I multiplied it with the cumulative returns.\n",
    "df['Daily Close Price'] = df['Cumulative']*122.31"
   ]
  },
  {
   "cell_type": "code",
   "execution_count": 13,
   "metadata": {
    "collapsed": true
   },
   "outputs": [],
   "source": [
    "## Since daily prices were not given, I scraped data from yahoo finance to compute the returns. \n",
    "## Using the daily close price only, I calculated the daily returns, MTd and YTD returns."
   ]
  },
  {
   "cell_type": "code",
   "execution_count": 14,
   "metadata": {
    "collapsed": true
   },
   "outputs": [],
   "source": [
    "import pandas_datareader.data as web\n",
    "import datetime as datetime\n",
    "\n",
    "# Grab data for 'AMZN' beginning from 22 June 2010 to 21 June 2018\n",
    "AMZN = web.DataReader('AMZN', 'yahoo', datetime.date(2010,6,22),datetime.date(2018,6,21))\n",
    "\n",
    "# Again group the data with the same TimeGrouper to get things grouped by year\n",
    "AMZN_YTD = AMZN.groupby(pd.TimeGrouper('A'))\n",
    "# Group the data with the same TimeGrouper to get things grouped by business month\n",
    "AMZN_MTD = AMZN.groupby(pd.TimeGrouper('BM'))\n",
    "\n",
    "# Create a new column with YTD and MTD data of adjusted close\n",
    "AMZN['Daily Returns'] = AMZN['Adj Close'].pct_change()\n",
    "AMZN[\"YTD\"] = AMZN_YTD['Adj Close'].transform(lambda x: x/x.iloc[0]-1.0)\n",
    "AMZN[\"MTD\"] = AMZN_MTD['Adj Close'].transform(lambda x: x/x.iloc[0]-1.0)"
   ]
  },
  {
   "cell_type": "code",
   "execution_count": 15,
   "metadata": {},
   "outputs": [
    {
     "data": {
      "text/html": [
       "<div>\n",
       "<style>\n",
       "    .dataframe thead tr:only-child th {\n",
       "        text-align: right;\n",
       "    }\n",
       "\n",
       "    .dataframe thead th {\n",
       "        text-align: left;\n",
       "    }\n",
       "\n",
       "    .dataframe tbody tr th {\n",
       "        vertical-align: top;\n",
       "    }\n",
       "</style>\n",
       "<table border=\"1\" class=\"dataframe\">\n",
       "  <thead>\n",
       "    <tr style=\"text-align: right;\">\n",
       "      <th></th>\n",
       "      <th>High</th>\n",
       "      <th>Low</th>\n",
       "      <th>Open</th>\n",
       "      <th>Close</th>\n",
       "      <th>Volume</th>\n",
       "      <th>Adj Close</th>\n",
       "      <th>Daily Returns</th>\n",
       "      <th>YTD</th>\n",
       "      <th>MTD</th>\n",
       "    </tr>\n",
       "    <tr>\n",
       "      <th>Date</th>\n",
       "      <th></th>\n",
       "      <th></th>\n",
       "      <th></th>\n",
       "      <th></th>\n",
       "      <th></th>\n",
       "      <th></th>\n",
       "      <th></th>\n",
       "      <th></th>\n",
       "      <th></th>\n",
       "    </tr>\n",
       "  </thead>\n",
       "  <tbody>\n",
       "    <tr>\n",
       "      <th>2010-06-22</th>\n",
       "      <td>125.230003</td>\n",
       "      <td>121.550003</td>\n",
       "      <td>122.650002</td>\n",
       "      <td>122.309998</td>\n",
       "      <td>6207200</td>\n",
       "      <td>122.309998</td>\n",
       "      <td>NaN</td>\n",
       "      <td>0.000000</td>\n",
       "      <td>0.000000</td>\n",
       "    </tr>\n",
       "    <tr>\n",
       "      <th>2010-06-23</th>\n",
       "      <td>123.220001</td>\n",
       "      <td>120.040001</td>\n",
       "      <td>122.110001</td>\n",
       "      <td>121.449997</td>\n",
       "      <td>5455100</td>\n",
       "      <td>121.449997</td>\n",
       "      <td>-0.007031</td>\n",
       "      <td>-0.007031</td>\n",
       "      <td>-0.007031</td>\n",
       "    </tr>\n",
       "    <tr>\n",
       "      <th>2010-06-24</th>\n",
       "      <td>120.849998</td>\n",
       "      <td>116.800003</td>\n",
       "      <td>120.610001</td>\n",
       "      <td>118.330002</td>\n",
       "      <td>7771100</td>\n",
       "      <td>118.330002</td>\n",
       "      <td>-0.025690</td>\n",
       "      <td>-0.032540</td>\n",
       "      <td>-0.032540</td>\n",
       "    </tr>\n",
       "    <tr>\n",
       "      <th>2010-06-25</th>\n",
       "      <td>121.760002</td>\n",
       "      <td>117.629997</td>\n",
       "      <td>118.139999</td>\n",
       "      <td>121.000000</td>\n",
       "      <td>5769700</td>\n",
       "      <td>121.000000</td>\n",
       "      <td>0.022564</td>\n",
       "      <td>-0.010710</td>\n",
       "      <td>-0.010710</td>\n",
       "    </tr>\n",
       "    <tr>\n",
       "      <th>2010-06-28</th>\n",
       "      <td>120.040001</td>\n",
       "      <td>117.099998</td>\n",
       "      <td>118.849998</td>\n",
       "      <td>117.800003</td>\n",
       "      <td>5612200</td>\n",
       "      <td>117.800003</td>\n",
       "      <td>-0.026446</td>\n",
       "      <td>-0.036873</td>\n",
       "      <td>-0.036873</td>\n",
       "    </tr>\n",
       "  </tbody>\n",
       "</table>\n",
       "</div>"
      ],
      "text/plain": [
       "                  High         Low        Open       Close   Volume  \\\n",
       "Date                                                                  \n",
       "2010-06-22  125.230003  121.550003  122.650002  122.309998  6207200   \n",
       "2010-06-23  123.220001  120.040001  122.110001  121.449997  5455100   \n",
       "2010-06-24  120.849998  116.800003  120.610001  118.330002  7771100   \n",
       "2010-06-25  121.760002  117.629997  118.139999  121.000000  5769700   \n",
       "2010-06-28  120.040001  117.099998  118.849998  117.800003  5612200   \n",
       "\n",
       "             Adj Close  Daily Returns       YTD       MTD  \n",
       "Date                                                       \n",
       "2010-06-22  122.309998            NaN  0.000000  0.000000  \n",
       "2010-06-23  121.449997      -0.007031 -0.007031 -0.007031  \n",
       "2010-06-24  118.330002      -0.025690 -0.032540 -0.032540  \n",
       "2010-06-25  121.000000       0.022564 -0.010710 -0.010710  \n",
       "2010-06-28  117.800003      -0.026446 -0.036873 -0.036873  "
      ]
     },
     "execution_count": 15,
     "metadata": {},
     "output_type": "execute_result"
    }
   ],
   "source": [
    "AMZN.head()"
   ]
  },
  {
   "cell_type": "markdown",
   "metadata": {},
   "source": [
    "## Part 3"
   ]
  },
  {
   "cell_type": "code",
   "execution_count": 16,
   "metadata": {
    "collapsed": true
   },
   "outputs": [],
   "source": [
    "## Reading the sheet for Question 3\n",
    "df2 = pd.read_excel('question3.xlsx', sheetname = 'FOR_PROBLEM_3_4')"
   ]
  },
  {
   "cell_type": "code",
   "execution_count": 17,
   "metadata": {
    "collapsed": true
   },
   "outputs": [],
   "source": [
    "df2.set_index('DATE', inplace = True)"
   ]
  },
  {
   "cell_type": "code",
   "execution_count": 18,
   "metadata": {},
   "outputs": [
    {
     "data": {
      "text/html": [
       "<div>\n",
       "<style>\n",
       "    .dataframe thead tr:only-child th {\n",
       "        text-align: right;\n",
       "    }\n",
       "\n",
       "    .dataframe thead th {\n",
       "        text-align: left;\n",
       "    }\n",
       "\n",
       "    .dataframe tbody tr th {\n",
       "        vertical-align: top;\n",
       "    }\n",
       "</style>\n",
       "<table border=\"1\" class=\"dataframe\">\n",
       "  <thead>\n",
       "    <tr style=\"text-align: right;\">\n",
       "      <th></th>\n",
       "      <th>TICKER</th>\n",
       "      <th>DAILY_RETURN</th>\n",
       "    </tr>\n",
       "    <tr>\n",
       "      <th>DATE</th>\n",
       "      <th></th>\n",
       "      <th></th>\n",
       "    </tr>\n",
       "  </thead>\n",
       "  <tbody>\n",
       "    <tr>\n",
       "      <th>2010-06-22</th>\n",
       "      <td>AMZN</td>\n",
       "      <td>NaN</td>\n",
       "    </tr>\n",
       "    <tr>\n",
       "      <th>2010-06-23</th>\n",
       "      <td>AMZN</td>\n",
       "      <td>-0.007031</td>\n",
       "    </tr>\n",
       "    <tr>\n",
       "      <th>2010-06-24</th>\n",
       "      <td>AMZN</td>\n",
       "      <td>-0.025690</td>\n",
       "    </tr>\n",
       "    <tr>\n",
       "      <th>2010-06-25</th>\n",
       "      <td>AMZN</td>\n",
       "      <td>0.022564</td>\n",
       "    </tr>\n",
       "    <tr>\n",
       "      <th>2010-06-28</th>\n",
       "      <td>AMZN</td>\n",
       "      <td>-0.026446</td>\n",
       "    </tr>\n",
       "  </tbody>\n",
       "</table>\n",
       "</div>"
      ],
      "text/plain": [
       "           TICKER  DAILY_RETURN\n",
       "DATE                           \n",
       "2010-06-22   AMZN           NaN\n",
       "2010-06-23   AMZN     -0.007031\n",
       "2010-06-24   AMZN     -0.025690\n",
       "2010-06-25   AMZN      0.022564\n",
       "2010-06-28   AMZN     -0.026446"
      ]
     },
     "execution_count": 18,
     "metadata": {},
     "output_type": "execute_result"
    }
   ],
   "source": [
    "df2.head()"
   ]
  },
  {
   "cell_type": "code",
   "execution_count": 19,
   "metadata": {
    "collapsed": true
   },
   "outputs": [],
   "source": [
    "## Creating a list of all the unique tickers in dataframe\n",
    "tickers = df2['TICKER'].unique()"
   ]
  },
  {
   "cell_type": "code",
   "execution_count": 20,
   "metadata": {
    "collapsed": true
   },
   "outputs": [],
   "source": [
    "## Groupig the entire dataframe by tickers\n",
    "trial = df2.groupby('TICKER')"
   ]
  },
  {
   "cell_type": "code",
   "execution_count": 21,
   "metadata": {
    "collapsed": true
   },
   "outputs": [],
   "source": [
    "## Calling groups from the grouped dataframe to create seperate dataframes for each ticker\n",
    "## Using global variable to create multiple dataferames\n",
    "gbl=globals()\n",
    "for i in tickers:\n",
    "    gbl['df_'+i] = trial.get_group(i)\n",
    "    gbl['df_'+i]['Cumulative'] =  (1+gbl['df_'+i]['DAILY_RETURN']).cumprod()\n",
    "    gbl['df_'+i]['Cumulative'][0] = 1"
   ]
  },
  {
   "cell_type": "code",
   "execution_count": 22,
   "metadata": {
    "collapsed": true
   },
   "outputs": [],
   "source": [
    "## Calculating YTD returns for each ticker in dataset\n",
    "for i in tickers:    \n",
    "    gbl['GroupedDat_YTD_'+i] = gbl['df_'+i].groupby(pd.TimeGrouper('A'))\n",
    "    gbl['df_'+i]['YTD'] = gbl['GroupedDat_YTD_'+i]['Cumulative'].transform(lambda x: x/x.iloc[0]-1.0)  "
   ]
  },
  {
   "cell_type": "code",
   "execution_count": 23,
   "metadata": {
    "collapsed": true
   },
   "outputs": [],
   "source": [
    "## Calculating MTD returns for each ticker in dataset\n",
    "for i in tickers:\n",
    "    gbl['GroupedDat_MTD_'+i] = gbl['df_'+i].groupby(pd.TimeGrouper('BM'))\n",
    "    gbl['df_'+i]['MTD'] = gbl['GroupedDat_MTD_'+i]['Cumulative'].transform(lambda x: x/x.iloc[0]-1.0)"
   ]
  },
  {
   "cell_type": "code",
   "execution_count": 24,
   "metadata": {
    "collapsed": true
   },
   "outputs": [],
   "source": [
    "## Finding the daily close price using inital prices.\n",
    "## If daily prices were given, we could perform similar process(Scrape data from web) as in Question 2 to obtain daily, MTD and YTD returns for each ticker.\n",
    "df_AMZN['Daily Close Price'] = df_AMZN['Cumulative']*122.31\n",
    "df_GOOG['Daily Close Price'] = df_GOOG['Cumulative']*241.5539\n",
    "df_AAPL['Daily Close Price'] = df_AAPL['Cumulative']*26.38178"
   ]
  },
  {
   "cell_type": "code",
   "execution_count": 25,
   "metadata": {},
   "outputs": [
    {
     "data": {
      "text/html": [
       "<div>\n",
       "<style>\n",
       "    .dataframe thead tr:only-child th {\n",
       "        text-align: right;\n",
       "    }\n",
       "\n",
       "    .dataframe thead th {\n",
       "        text-align: left;\n",
       "    }\n",
       "\n",
       "    .dataframe tbody tr th {\n",
       "        vertical-align: top;\n",
       "    }\n",
       "</style>\n",
       "<table border=\"1\" class=\"dataframe\">\n",
       "  <thead>\n",
       "    <tr style=\"text-align: right;\">\n",
       "      <th></th>\n",
       "      <th>TICKER</th>\n",
       "      <th>DAILY_RETURN</th>\n",
       "      <th>Cumulative</th>\n",
       "      <th>YTD</th>\n",
       "      <th>MTD</th>\n",
       "      <th>Daily Close Price</th>\n",
       "    </tr>\n",
       "    <tr>\n",
       "      <th>DATE</th>\n",
       "      <th></th>\n",
       "      <th></th>\n",
       "      <th></th>\n",
       "      <th></th>\n",
       "      <th></th>\n",
       "      <th></th>\n",
       "    </tr>\n",
       "  </thead>\n",
       "  <tbody>\n",
       "    <tr>\n",
       "      <th>2010-06-22</th>\n",
       "      <td>AMZN</td>\n",
       "      <td>NaN</td>\n",
       "      <td>1.000000</td>\n",
       "      <td>0.000000</td>\n",
       "      <td>0.000000</td>\n",
       "      <td>122.310000</td>\n",
       "    </tr>\n",
       "    <tr>\n",
       "      <th>2010-06-23</th>\n",
       "      <td>AMZN</td>\n",
       "      <td>-0.007031</td>\n",
       "      <td>0.992969</td>\n",
       "      <td>-0.007031</td>\n",
       "      <td>-0.007031</td>\n",
       "      <td>121.449999</td>\n",
       "    </tr>\n",
       "    <tr>\n",
       "      <th>2010-06-24</th>\n",
       "      <td>AMZN</td>\n",
       "      <td>-0.025690</td>\n",
       "      <td>0.967460</td>\n",
       "      <td>-0.032540</td>\n",
       "      <td>-0.032540</td>\n",
       "      <td>118.330004</td>\n",
       "    </tr>\n",
       "    <tr>\n",
       "      <th>2010-06-25</th>\n",
       "      <td>AMZN</td>\n",
       "      <td>0.022564</td>\n",
       "      <td>0.989290</td>\n",
       "      <td>-0.010710</td>\n",
       "      <td>-0.010710</td>\n",
       "      <td>121.000002</td>\n",
       "    </tr>\n",
       "    <tr>\n",
       "      <th>2010-06-28</th>\n",
       "      <td>AMZN</td>\n",
       "      <td>-0.026446</td>\n",
       "      <td>0.963127</td>\n",
       "      <td>-0.036873</td>\n",
       "      <td>-0.036873</td>\n",
       "      <td>117.800005</td>\n",
       "    </tr>\n",
       "  </tbody>\n",
       "</table>\n",
       "</div>"
      ],
      "text/plain": [
       "           TICKER  DAILY_RETURN  Cumulative       YTD       MTD  \\\n",
       "DATE                                                              \n",
       "2010-06-22   AMZN           NaN    1.000000  0.000000  0.000000   \n",
       "2010-06-23   AMZN     -0.007031    0.992969 -0.007031 -0.007031   \n",
       "2010-06-24   AMZN     -0.025690    0.967460 -0.032540 -0.032540   \n",
       "2010-06-25   AMZN      0.022564    0.989290 -0.010710 -0.010710   \n",
       "2010-06-28   AMZN     -0.026446    0.963127 -0.036873 -0.036873   \n",
       "\n",
       "            Daily Close Price  \n",
       "DATE                           \n",
       "2010-06-22         122.310000  \n",
       "2010-06-23         121.449999  \n",
       "2010-06-24         118.330004  \n",
       "2010-06-25         121.000002  \n",
       "2010-06-28         117.800005  "
      ]
     },
     "execution_count": 25,
     "metadata": {},
     "output_type": "execute_result"
    }
   ],
   "source": [
    "df_AMZN.head()"
   ]
  },
  {
   "cell_type": "markdown",
   "metadata": {},
   "source": [
    "## Part 4"
   ]
  },
  {
   "cell_type": "code",
   "execution_count": 26,
   "metadata": {
    "collapsed": true
   },
   "outputs": [],
   "source": [
    "## Preparing seperate dataframes to merge"
   ]
  },
  {
   "cell_type": "code",
   "execution_count": 27,
   "metadata": {
    "collapsed": true
   },
   "outputs": [],
   "source": [
    "df_AMZN = df_AMZN.add_prefix('AMZN_')\n",
    "df_GOOG = df_GOOG.add_prefix('GOOG_')\n",
    "df_AAPL = df_AAPL.add_prefix('AAPL_')"
   ]
  },
  {
   "cell_type": "code",
   "execution_count": 28,
   "metadata": {
    "collapsed": true
   },
   "outputs": [],
   "source": [
    "portfolio = pd.concat([df_AMZN,df_GOOG,df_AAPL],axis = 1)"
   ]
  },
  {
   "cell_type": "code",
   "execution_count": 29,
   "metadata": {
    "collapsed": true
   },
   "outputs": [],
   "source": [
    "## Calculating the cumulative return of the entire equal-weighted portfolio\n",
    "portfolio['Portfolio_Cumulative'] = ((portfolio['AMZN_Cumulative']) + (portfolio['GOOG_Cumulative']) + (portfolio['AAPL_Cumulative']))/3"
   ]
  },
  {
   "cell_type": "code",
   "execution_count": 30,
   "metadata": {
    "collapsed": true
   },
   "outputs": [],
   "source": [
    "## Computing the daily returns of the portfolio\n",
    "portfolio['Portfolio_Daily_returns'] = portfolio['Portfolio_Cumulative'].pct_change()"
   ]
  },
  {
   "cell_type": "code",
   "execution_count": 31,
   "metadata": {},
   "outputs": [
    {
     "data": {
      "text/html": [
       "<div>\n",
       "<style>\n",
       "    .dataframe thead tr:only-child th {\n",
       "        text-align: right;\n",
       "    }\n",
       "\n",
       "    .dataframe thead th {\n",
       "        text-align: left;\n",
       "    }\n",
       "\n",
       "    .dataframe tbody tr th {\n",
       "        vertical-align: top;\n",
       "    }\n",
       "</style>\n",
       "<table border=\"1\" class=\"dataframe\">\n",
       "  <thead>\n",
       "    <tr style=\"text-align: right;\">\n",
       "      <th></th>\n",
       "      <th>AMZN_TICKER</th>\n",
       "      <th>AMZN_DAILY_RETURN</th>\n",
       "      <th>AMZN_Cumulative</th>\n",
       "      <th>AMZN_YTD</th>\n",
       "      <th>AMZN_MTD</th>\n",
       "      <th>AMZN_Daily Close Price</th>\n",
       "      <th>GOOG_TICKER</th>\n",
       "      <th>GOOG_DAILY_RETURN</th>\n",
       "      <th>GOOG_Cumulative</th>\n",
       "      <th>GOOG_YTD</th>\n",
       "      <th>GOOG_MTD</th>\n",
       "      <th>GOOG_Daily Close Price</th>\n",
       "      <th>AAPL_TICKER</th>\n",
       "      <th>AAPL_DAILY_RETURN</th>\n",
       "      <th>AAPL_Cumulative</th>\n",
       "      <th>AAPL_YTD</th>\n",
       "      <th>AAPL_MTD</th>\n",
       "      <th>AAPL_Daily Close Price</th>\n",
       "      <th>Portfolio_Cumulative</th>\n",
       "      <th>Portfolio_Daily_returns</th>\n",
       "    </tr>\n",
       "    <tr>\n",
       "      <th>DATE</th>\n",
       "      <th></th>\n",
       "      <th></th>\n",
       "      <th></th>\n",
       "      <th></th>\n",
       "      <th></th>\n",
       "      <th></th>\n",
       "      <th></th>\n",
       "      <th></th>\n",
       "      <th></th>\n",
       "      <th></th>\n",
       "      <th></th>\n",
       "      <th></th>\n",
       "      <th></th>\n",
       "      <th></th>\n",
       "      <th></th>\n",
       "      <th></th>\n",
       "      <th></th>\n",
       "      <th></th>\n",
       "      <th></th>\n",
       "      <th></th>\n",
       "    </tr>\n",
       "  </thead>\n",
       "  <tbody>\n",
       "    <tr>\n",
       "      <th>2010-06-22</th>\n",
       "      <td>AMZN</td>\n",
       "      <td>NaN</td>\n",
       "      <td>1.000000</td>\n",
       "      <td>0.000000</td>\n",
       "      <td>0.000000</td>\n",
       "      <td>122.310000</td>\n",
       "      <td>GOOG</td>\n",
       "      <td>NaN</td>\n",
       "      <td>1.000000</td>\n",
       "      <td>0.000000</td>\n",
       "      <td>0.000000</td>\n",
       "      <td>241.553900</td>\n",
       "      <td>AAPL</td>\n",
       "      <td>NaN</td>\n",
       "      <td>1.000000</td>\n",
       "      <td>0.000000</td>\n",
       "      <td>0.000000</td>\n",
       "      <td>26.381780</td>\n",
       "      <td>1.000000</td>\n",
       "      <td>NaN</td>\n",
       "    </tr>\n",
       "    <tr>\n",
       "      <th>2010-06-23</th>\n",
       "      <td>AMZN</td>\n",
       "      <td>-0.007031</td>\n",
       "      <td>0.992969</td>\n",
       "      <td>-0.007031</td>\n",
       "      <td>-0.007031</td>\n",
       "      <td>121.449999</td>\n",
       "      <td>GOOG</td>\n",
       "      <td>-0.008638</td>\n",
       "      <td>0.991362</td>\n",
       "      <td>-0.008638</td>\n",
       "      <td>-0.008638</td>\n",
       "      <td>239.467474</td>\n",
       "      <td>AAPL</td>\n",
       "      <td>-0.010517</td>\n",
       "      <td>0.989483</td>\n",
       "      <td>-0.010517</td>\n",
       "      <td>-0.010517</td>\n",
       "      <td>26.104323</td>\n",
       "      <td>0.991271</td>\n",
       "      <td>-0.008729</td>\n",
       "    </tr>\n",
       "    <tr>\n",
       "      <th>2010-06-24</th>\n",
       "      <td>AMZN</td>\n",
       "      <td>-0.025690</td>\n",
       "      <td>0.967460</td>\n",
       "      <td>-0.032540</td>\n",
       "      <td>-0.032540</td>\n",
       "      <td>118.330004</td>\n",
       "      <td>GOOG</td>\n",
       "      <td>-0.014418</td>\n",
       "      <td>0.977069</td>\n",
       "      <td>-0.022931</td>\n",
       "      <td>-0.022931</td>\n",
       "      <td>236.014930</td>\n",
       "      <td>AAPL</td>\n",
       "      <td>-0.007270</td>\n",
       "      <td>0.982289</td>\n",
       "      <td>-0.017711</td>\n",
       "      <td>-0.017711</td>\n",
       "      <td>25.914540</td>\n",
       "      <td>0.975606</td>\n",
       "      <td>-0.015803</td>\n",
       "    </tr>\n",
       "    <tr>\n",
       "      <th>2010-06-25</th>\n",
       "      <td>AMZN</td>\n",
       "      <td>0.022564</td>\n",
       "      <td>0.989290</td>\n",
       "      <td>-0.010710</td>\n",
       "      <td>-0.010710</td>\n",
       "      <td>121.000002</td>\n",
       "      <td>GOOG</td>\n",
       "      <td>-0.005094</td>\n",
       "      <td>0.972093</td>\n",
       "      <td>-0.027907</td>\n",
       "      <td>-0.027907</td>\n",
       "      <td>234.812751</td>\n",
       "      <td>AAPL</td>\n",
       "      <td>-0.008550</td>\n",
       "      <td>0.973891</td>\n",
       "      <td>-0.026109</td>\n",
       "      <td>-0.026109</td>\n",
       "      <td>25.692969</td>\n",
       "      <td>0.978424</td>\n",
       "      <td>0.002889</td>\n",
       "    </tr>\n",
       "    <tr>\n",
       "      <th>2010-06-28</th>\n",
       "      <td>AMZN</td>\n",
       "      <td>-0.026446</td>\n",
       "      <td>0.963127</td>\n",
       "      <td>-0.036873</td>\n",
       "      <td>-0.036873</td>\n",
       "      <td>117.800005</td>\n",
       "      <td>GOOG</td>\n",
       "      <td>-0.001269</td>\n",
       "      <td>0.970859</td>\n",
       "      <td>-0.029141</td>\n",
       "      <td>-0.029141</td>\n",
       "      <td>234.514685</td>\n",
       "      <td>AAPL</td>\n",
       "      <td>0.005999</td>\n",
       "      <td>0.979733</td>\n",
       "      <td>-0.020267</td>\n",
       "      <td>-0.020267</td>\n",
       "      <td>25.847112</td>\n",
       "      <td>0.971240</td>\n",
       "      <td>-0.007343</td>\n",
       "    </tr>\n",
       "  </tbody>\n",
       "</table>\n",
       "</div>"
      ],
      "text/plain": [
       "           AMZN_TICKER  AMZN_DAILY_RETURN  AMZN_Cumulative  AMZN_YTD  \\\n",
       "DATE                                                                   \n",
       "2010-06-22        AMZN                NaN         1.000000  0.000000   \n",
       "2010-06-23        AMZN          -0.007031         0.992969 -0.007031   \n",
       "2010-06-24        AMZN          -0.025690         0.967460 -0.032540   \n",
       "2010-06-25        AMZN           0.022564         0.989290 -0.010710   \n",
       "2010-06-28        AMZN          -0.026446         0.963127 -0.036873   \n",
       "\n",
       "            AMZN_MTD  AMZN_Daily Close Price GOOG_TICKER  GOOG_DAILY_RETURN  \\\n",
       "DATE                                                                          \n",
       "2010-06-22  0.000000              122.310000        GOOG                NaN   \n",
       "2010-06-23 -0.007031              121.449999        GOOG          -0.008638   \n",
       "2010-06-24 -0.032540              118.330004        GOOG          -0.014418   \n",
       "2010-06-25 -0.010710              121.000002        GOOG          -0.005094   \n",
       "2010-06-28 -0.036873              117.800005        GOOG          -0.001269   \n",
       "\n",
       "            GOOG_Cumulative  GOOG_YTD  GOOG_MTD  GOOG_Daily Close Price  \\\n",
       "DATE                                                                      \n",
       "2010-06-22         1.000000  0.000000  0.000000              241.553900   \n",
       "2010-06-23         0.991362 -0.008638 -0.008638              239.467474   \n",
       "2010-06-24         0.977069 -0.022931 -0.022931              236.014930   \n",
       "2010-06-25         0.972093 -0.027907 -0.027907              234.812751   \n",
       "2010-06-28         0.970859 -0.029141 -0.029141              234.514685   \n",
       "\n",
       "           AAPL_TICKER  AAPL_DAILY_RETURN  AAPL_Cumulative  AAPL_YTD  \\\n",
       "DATE                                                                   \n",
       "2010-06-22        AAPL                NaN         1.000000  0.000000   \n",
       "2010-06-23        AAPL          -0.010517         0.989483 -0.010517   \n",
       "2010-06-24        AAPL          -0.007270         0.982289 -0.017711   \n",
       "2010-06-25        AAPL          -0.008550         0.973891 -0.026109   \n",
       "2010-06-28        AAPL           0.005999         0.979733 -0.020267   \n",
       "\n",
       "            AAPL_MTD  AAPL_Daily Close Price  Portfolio_Cumulative  \\\n",
       "DATE                                                                 \n",
       "2010-06-22  0.000000               26.381780              1.000000   \n",
       "2010-06-23 -0.010517               26.104323              0.991271   \n",
       "2010-06-24 -0.017711               25.914540              0.975606   \n",
       "2010-06-25 -0.026109               25.692969              0.978424   \n",
       "2010-06-28 -0.020267               25.847112              0.971240   \n",
       "\n",
       "            Portfolio_Daily_returns  \n",
       "DATE                                 \n",
       "2010-06-22                      NaN  \n",
       "2010-06-23                -0.008729  \n",
       "2010-06-24                -0.015803  \n",
       "2010-06-25                 0.002889  \n",
       "2010-06-28                -0.007343  "
      ]
     },
     "execution_count": 31,
     "metadata": {},
     "output_type": "execute_result"
    }
   ],
   "source": [
    "portfolio.head()"
   ]
  },
  {
   "cell_type": "code",
   "execution_count": 32,
   "metadata": {
    "collapsed": true
   },
   "outputs": [],
   "source": [
    "## performing similar process as in question 1 to compute the MTD and YTD returns of the portolio\n",
    "portfolio_YTD = portfolio.groupby(pd.TimeGrouper('A'))"
   ]
  },
  {
   "cell_type": "code",
   "execution_count": 33,
   "metadata": {
    "collapsed": true
   },
   "outputs": [],
   "source": [
    "portfolio[\"Portfolio_YTD\"] = portfolio_YTD['Portfolio_Cumulative'].transform(lambda x: x/x.iloc[0]-1.0)"
   ]
  },
  {
   "cell_type": "code",
   "execution_count": 34,
   "metadata": {
    "collapsed": true
   },
   "outputs": [],
   "source": [
    "portfolio_MTD = portfolio.groupby(pd.TimeGrouper('BM'))"
   ]
  },
  {
   "cell_type": "code",
   "execution_count": 35,
   "metadata": {
    "collapsed": true
   },
   "outputs": [],
   "source": [
    "portfolio[\"Portfolio_MTD\"] = portfolio_MTD['Portfolio_Cumulative'].transform(lambda x: x/x.iloc[0]-1.0)"
   ]
  },
  {
   "cell_type": "code",
   "execution_count": 36,
   "metadata": {},
   "outputs": [
    {
     "data": {
      "text/html": [
       "<div>\n",
       "<style>\n",
       "    .dataframe thead tr:only-child th {\n",
       "        text-align: right;\n",
       "    }\n",
       "\n",
       "    .dataframe thead th {\n",
       "        text-align: left;\n",
       "    }\n",
       "\n",
       "    .dataframe tbody tr th {\n",
       "        vertical-align: top;\n",
       "    }\n",
       "</style>\n",
       "<table border=\"1\" class=\"dataframe\">\n",
       "  <thead>\n",
       "    <tr style=\"text-align: right;\">\n",
       "      <th></th>\n",
       "      <th>AMZN_TICKER</th>\n",
       "      <th>AMZN_DAILY_RETURN</th>\n",
       "      <th>AMZN_Cumulative</th>\n",
       "      <th>AMZN_YTD</th>\n",
       "      <th>AMZN_MTD</th>\n",
       "      <th>AMZN_Daily Close Price</th>\n",
       "      <th>GOOG_TICKER</th>\n",
       "      <th>GOOG_DAILY_RETURN</th>\n",
       "      <th>GOOG_Cumulative</th>\n",
       "      <th>GOOG_YTD</th>\n",
       "      <th>...</th>\n",
       "      <th>AAPL_TICKER</th>\n",
       "      <th>AAPL_DAILY_RETURN</th>\n",
       "      <th>AAPL_Cumulative</th>\n",
       "      <th>AAPL_YTD</th>\n",
       "      <th>AAPL_MTD</th>\n",
       "      <th>AAPL_Daily Close Price</th>\n",
       "      <th>Portfolio_Cumulative</th>\n",
       "      <th>Portfolio_Daily_returns</th>\n",
       "      <th>Portfolio_YTD</th>\n",
       "      <th>Portfolio_MTD</th>\n",
       "    </tr>\n",
       "    <tr>\n",
       "      <th>DATE</th>\n",
       "      <th></th>\n",
       "      <th></th>\n",
       "      <th></th>\n",
       "      <th></th>\n",
       "      <th></th>\n",
       "      <th></th>\n",
       "      <th></th>\n",
       "      <th></th>\n",
       "      <th></th>\n",
       "      <th></th>\n",
       "      <th></th>\n",
       "      <th></th>\n",
       "      <th></th>\n",
       "      <th></th>\n",
       "      <th></th>\n",
       "      <th></th>\n",
       "      <th></th>\n",
       "      <th></th>\n",
       "      <th></th>\n",
       "      <th></th>\n",
       "      <th></th>\n",
       "    </tr>\n",
       "  </thead>\n",
       "  <tbody>\n",
       "    <tr>\n",
       "      <th>2010-06-22</th>\n",
       "      <td>AMZN</td>\n",
       "      <td>NaN</td>\n",
       "      <td>1.000000</td>\n",
       "      <td>0.000000</td>\n",
       "      <td>0.000000</td>\n",
       "      <td>122.310000</td>\n",
       "      <td>GOOG</td>\n",
       "      <td>NaN</td>\n",
       "      <td>1.000000</td>\n",
       "      <td>0.000000</td>\n",
       "      <td>...</td>\n",
       "      <td>AAPL</td>\n",
       "      <td>NaN</td>\n",
       "      <td>1.000000</td>\n",
       "      <td>0.000000</td>\n",
       "      <td>0.000000</td>\n",
       "      <td>26.381780</td>\n",
       "      <td>1.000000</td>\n",
       "      <td>NaN</td>\n",
       "      <td>0.000000</td>\n",
       "      <td>0.000000</td>\n",
       "    </tr>\n",
       "    <tr>\n",
       "      <th>2010-06-23</th>\n",
       "      <td>AMZN</td>\n",
       "      <td>-0.007031</td>\n",
       "      <td>0.992969</td>\n",
       "      <td>-0.007031</td>\n",
       "      <td>-0.007031</td>\n",
       "      <td>121.449999</td>\n",
       "      <td>GOOG</td>\n",
       "      <td>-0.008638</td>\n",
       "      <td>0.991362</td>\n",
       "      <td>-0.008638</td>\n",
       "      <td>...</td>\n",
       "      <td>AAPL</td>\n",
       "      <td>-0.010517</td>\n",
       "      <td>0.989483</td>\n",
       "      <td>-0.010517</td>\n",
       "      <td>-0.010517</td>\n",
       "      <td>26.104323</td>\n",
       "      <td>0.991271</td>\n",
       "      <td>-0.008729</td>\n",
       "      <td>-0.008729</td>\n",
       "      <td>-0.008729</td>\n",
       "    </tr>\n",
       "    <tr>\n",
       "      <th>2010-06-24</th>\n",
       "      <td>AMZN</td>\n",
       "      <td>-0.025690</td>\n",
       "      <td>0.967460</td>\n",
       "      <td>-0.032540</td>\n",
       "      <td>-0.032540</td>\n",
       "      <td>118.330004</td>\n",
       "      <td>GOOG</td>\n",
       "      <td>-0.014418</td>\n",
       "      <td>0.977069</td>\n",
       "      <td>-0.022931</td>\n",
       "      <td>...</td>\n",
       "      <td>AAPL</td>\n",
       "      <td>-0.007270</td>\n",
       "      <td>0.982289</td>\n",
       "      <td>-0.017711</td>\n",
       "      <td>-0.017711</td>\n",
       "      <td>25.914540</td>\n",
       "      <td>0.975606</td>\n",
       "      <td>-0.015803</td>\n",
       "      <td>-0.024394</td>\n",
       "      <td>-0.024394</td>\n",
       "    </tr>\n",
       "    <tr>\n",
       "      <th>2010-06-25</th>\n",
       "      <td>AMZN</td>\n",
       "      <td>0.022564</td>\n",
       "      <td>0.989290</td>\n",
       "      <td>-0.010710</td>\n",
       "      <td>-0.010710</td>\n",
       "      <td>121.000002</td>\n",
       "      <td>GOOG</td>\n",
       "      <td>-0.005094</td>\n",
       "      <td>0.972093</td>\n",
       "      <td>-0.027907</td>\n",
       "      <td>...</td>\n",
       "      <td>AAPL</td>\n",
       "      <td>-0.008550</td>\n",
       "      <td>0.973891</td>\n",
       "      <td>-0.026109</td>\n",
       "      <td>-0.026109</td>\n",
       "      <td>25.692969</td>\n",
       "      <td>0.978424</td>\n",
       "      <td>0.002889</td>\n",
       "      <td>-0.021576</td>\n",
       "      <td>-0.021576</td>\n",
       "    </tr>\n",
       "    <tr>\n",
       "      <th>2010-06-28</th>\n",
       "      <td>AMZN</td>\n",
       "      <td>-0.026446</td>\n",
       "      <td>0.963127</td>\n",
       "      <td>-0.036873</td>\n",
       "      <td>-0.036873</td>\n",
       "      <td>117.800005</td>\n",
       "      <td>GOOG</td>\n",
       "      <td>-0.001269</td>\n",
       "      <td>0.970859</td>\n",
       "      <td>-0.029141</td>\n",
       "      <td>...</td>\n",
       "      <td>AAPL</td>\n",
       "      <td>0.005999</td>\n",
       "      <td>0.979733</td>\n",
       "      <td>-0.020267</td>\n",
       "      <td>-0.020267</td>\n",
       "      <td>25.847112</td>\n",
       "      <td>0.971240</td>\n",
       "      <td>-0.007343</td>\n",
       "      <td>-0.028760</td>\n",
       "      <td>-0.028760</td>\n",
       "    </tr>\n",
       "  </tbody>\n",
       "</table>\n",
       "<p>5 rows × 22 columns</p>\n",
       "</div>"
      ],
      "text/plain": [
       "           AMZN_TICKER  AMZN_DAILY_RETURN  AMZN_Cumulative  AMZN_YTD  \\\n",
       "DATE                                                                   \n",
       "2010-06-22        AMZN                NaN         1.000000  0.000000   \n",
       "2010-06-23        AMZN          -0.007031         0.992969 -0.007031   \n",
       "2010-06-24        AMZN          -0.025690         0.967460 -0.032540   \n",
       "2010-06-25        AMZN           0.022564         0.989290 -0.010710   \n",
       "2010-06-28        AMZN          -0.026446         0.963127 -0.036873   \n",
       "\n",
       "            AMZN_MTD  AMZN_Daily Close Price GOOG_TICKER  GOOG_DAILY_RETURN  \\\n",
       "DATE                                                                          \n",
       "2010-06-22  0.000000              122.310000        GOOG                NaN   \n",
       "2010-06-23 -0.007031              121.449999        GOOG          -0.008638   \n",
       "2010-06-24 -0.032540              118.330004        GOOG          -0.014418   \n",
       "2010-06-25 -0.010710              121.000002        GOOG          -0.005094   \n",
       "2010-06-28 -0.036873              117.800005        GOOG          -0.001269   \n",
       "\n",
       "            GOOG_Cumulative  GOOG_YTD      ...        AAPL_TICKER  \\\n",
       "DATE                                       ...                      \n",
       "2010-06-22         1.000000  0.000000      ...               AAPL   \n",
       "2010-06-23         0.991362 -0.008638      ...               AAPL   \n",
       "2010-06-24         0.977069 -0.022931      ...               AAPL   \n",
       "2010-06-25         0.972093 -0.027907      ...               AAPL   \n",
       "2010-06-28         0.970859 -0.029141      ...               AAPL   \n",
       "\n",
       "            AAPL_DAILY_RETURN AAPL_Cumulative  AAPL_YTD  AAPL_MTD  \\\n",
       "DATE                                                                \n",
       "2010-06-22                NaN        1.000000  0.000000  0.000000   \n",
       "2010-06-23          -0.010517        0.989483 -0.010517 -0.010517   \n",
       "2010-06-24          -0.007270        0.982289 -0.017711 -0.017711   \n",
       "2010-06-25          -0.008550        0.973891 -0.026109 -0.026109   \n",
       "2010-06-28           0.005999        0.979733 -0.020267 -0.020267   \n",
       "\n",
       "            AAPL_Daily Close Price  Portfolio_Cumulative  \\\n",
       "DATE                                                       \n",
       "2010-06-22               26.381780              1.000000   \n",
       "2010-06-23               26.104323              0.991271   \n",
       "2010-06-24               25.914540              0.975606   \n",
       "2010-06-25               25.692969              0.978424   \n",
       "2010-06-28               25.847112              0.971240   \n",
       "\n",
       "            Portfolio_Daily_returns  Portfolio_YTD  Portfolio_MTD  \n",
       "DATE                                                               \n",
       "2010-06-22                      NaN       0.000000       0.000000  \n",
       "2010-06-23                -0.008729      -0.008729      -0.008729  \n",
       "2010-06-24                -0.015803      -0.024394      -0.024394  \n",
       "2010-06-25                 0.002889      -0.021576      -0.021576  \n",
       "2010-06-28                -0.007343      -0.028760      -0.028760  \n",
       "\n",
       "[5 rows x 22 columns]"
      ]
     },
     "execution_count": 36,
     "metadata": {},
     "output_type": "execute_result"
    }
   ],
   "source": [
    "portfolio.head()"
   ]
  },
  {
   "cell_type": "code",
   "execution_count": 37,
   "metadata": {
    "collapsed": true
   },
   "outputs": [],
   "source": [
    "portfolio_final = portfolio[['Portfolio_Cumulative','Portfolio_Daily_returns','Portfolio_YTD','Portfolio_MTD']]"
   ]
  },
  {
   "cell_type": "code",
   "execution_count": 38,
   "metadata": {},
   "outputs": [
    {
     "data": {
      "text/html": [
       "<div>\n",
       "<style>\n",
       "    .dataframe thead tr:only-child th {\n",
       "        text-align: right;\n",
       "    }\n",
       "\n",
       "    .dataframe thead th {\n",
       "        text-align: left;\n",
       "    }\n",
       "\n",
       "    .dataframe tbody tr th {\n",
       "        vertical-align: top;\n",
       "    }\n",
       "</style>\n",
       "<table border=\"1\" class=\"dataframe\">\n",
       "  <thead>\n",
       "    <tr style=\"text-align: right;\">\n",
       "      <th></th>\n",
       "      <th>Portfolio_Cumulative</th>\n",
       "      <th>Portfolio_Daily_returns</th>\n",
       "      <th>Portfolio_YTD</th>\n",
       "      <th>Portfolio_MTD</th>\n",
       "    </tr>\n",
       "    <tr>\n",
       "      <th>DATE</th>\n",
       "      <th></th>\n",
       "      <th></th>\n",
       "      <th></th>\n",
       "      <th></th>\n",
       "    </tr>\n",
       "  </thead>\n",
       "  <tbody>\n",
       "    <tr>\n",
       "      <th>2010-06-22</th>\n",
       "      <td>1.000000</td>\n",
       "      <td>NaN</td>\n",
       "      <td>0.000000</td>\n",
       "      <td>0.000000</td>\n",
       "    </tr>\n",
       "    <tr>\n",
       "      <th>2010-06-23</th>\n",
       "      <td>0.991271</td>\n",
       "      <td>-0.008729</td>\n",
       "      <td>-0.008729</td>\n",
       "      <td>-0.008729</td>\n",
       "    </tr>\n",
       "    <tr>\n",
       "      <th>2010-06-24</th>\n",
       "      <td>0.975606</td>\n",
       "      <td>-0.015803</td>\n",
       "      <td>-0.024394</td>\n",
       "      <td>-0.024394</td>\n",
       "    </tr>\n",
       "    <tr>\n",
       "      <th>2010-06-25</th>\n",
       "      <td>0.978424</td>\n",
       "      <td>0.002889</td>\n",
       "      <td>-0.021576</td>\n",
       "      <td>-0.021576</td>\n",
       "    </tr>\n",
       "    <tr>\n",
       "      <th>2010-06-28</th>\n",
       "      <td>0.971240</td>\n",
       "      <td>-0.007343</td>\n",
       "      <td>-0.028760</td>\n",
       "      <td>-0.028760</td>\n",
       "    </tr>\n",
       "  </tbody>\n",
       "</table>\n",
       "</div>"
      ],
      "text/plain": [
       "            Portfolio_Cumulative  Portfolio_Daily_returns  Portfolio_YTD  \\\n",
       "DATE                                                                       \n",
       "2010-06-22              1.000000                      NaN       0.000000   \n",
       "2010-06-23              0.991271                -0.008729      -0.008729   \n",
       "2010-06-24              0.975606                -0.015803      -0.024394   \n",
       "2010-06-25              0.978424                 0.002889      -0.021576   \n",
       "2010-06-28              0.971240                -0.007343      -0.028760   \n",
       "\n",
       "            Portfolio_MTD  \n",
       "DATE                       \n",
       "2010-06-22       0.000000  \n",
       "2010-06-23      -0.008729  \n",
       "2010-06-24      -0.024394  \n",
       "2010-06-25      -0.021576  \n",
       "2010-06-28      -0.028760  "
      ]
     },
     "execution_count": 38,
     "metadata": {},
     "output_type": "execute_result"
    }
   ],
   "source": [
    "portfolio_final.head()"
   ]
  },
  {
   "cell_type": "markdown",
   "metadata": {},
   "source": [
    "## Thank you!"
   ]
  },
  {
   "cell_type": "code",
   "execution_count": null,
   "metadata": {
    "collapsed": true
   },
   "outputs": [],
   "source": []
  }
 ],
 "metadata": {
  "kernelspec": {
   "display_name": "Python 3",
   "language": "python",
   "name": "python3"
  },
  "language_info": {
   "codemirror_mode": {
    "name": "ipython",
    "version": 3
   },
   "file_extension": ".py",
   "mimetype": "text/x-python",
   "name": "python",
   "nbconvert_exporter": "python",
   "pygments_lexer": "ipython3",
   "version": "3.6.3"
  }
 },
 "nbformat": 4,
 "nbformat_minor": 2
}
